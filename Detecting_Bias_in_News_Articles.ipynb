{
  "nbformat": 4,
  "nbformat_minor": 0,
  "metadata": {
    "colab": {
      "provenance": []
    },
    "kernelspec": {
      "name": "python3",
      "display_name": "Python 3"
    },
    "language_info": {
      "name": "python"
    }
  },
  "cells": [
    {
      "cell_type": "code",
      "source": [
        "pip install lxml[html_clean]"
      ],
      "metadata": {
        "colab": {
          "base_uri": "https://localhost:8080/"
        },
        "id": "sudcphVXJewY",
        "outputId": "a71f24d3-d436-43b6-de2c-a70995601055"
      },
      "execution_count": 3,
      "outputs": [
        {
          "output_type": "stream",
          "name": "stdout",
          "text": [
            "Requirement already satisfied: lxml[html_clean] in /usr/local/lib/python3.10/dist-packages (5.3.0)\n",
            "Collecting lxml-html-clean (from lxml[html_clean])\n",
            "  Downloading lxml_html_clean-0.4.1-py3-none-any.whl.metadata (2.4 kB)\n",
            "Downloading lxml_html_clean-0.4.1-py3-none-any.whl (14 kB)\n",
            "Installing collected packages: lxml-html-clean\n",
            "Successfully installed lxml-html-clean-0.4.1\n"
          ]
        }
      ]
    },
    {
      "cell_type": "code",
      "execution_count": 1,
      "metadata": {
        "colab": {
          "base_uri": "https://localhost:8080/"
        },
        "id": "kF71duRjHODQ",
        "outputId": "1f265b74-655f-44b7-a682-44a640239d61"
      },
      "outputs": [
        {
          "output_type": "stream",
          "name": "stdout",
          "text": [
            "Requirement already satisfied: transformers in /usr/local/lib/python3.10/dist-packages (4.47.1)\n",
            "Collecting newspaper3k\n",
            "  Downloading newspaper3k-0.2.8-py3-none-any.whl.metadata (11 kB)\n",
            "Collecting google-search-results\n",
            "  Downloading google_search_results-2.4.2.tar.gz (18 kB)\n",
            "  Preparing metadata (setup.py) ... \u001b[?25l\u001b[?25hdone\n",
            "Requirement already satisfied: filelock in /usr/local/lib/python3.10/dist-packages (from transformers) (3.16.1)\n",
            "Requirement already satisfied: huggingface-hub<1.0,>=0.24.0 in /usr/local/lib/python3.10/dist-packages (from transformers) (0.27.0)\n",
            "Requirement already satisfied: numpy>=1.17 in /usr/local/lib/python3.10/dist-packages (from transformers) (1.26.4)\n",
            "Requirement already satisfied: packaging>=20.0 in /usr/local/lib/python3.10/dist-packages (from transformers) (24.2)\n",
            "Requirement already satisfied: pyyaml>=5.1 in /usr/local/lib/python3.10/dist-packages (from transformers) (6.0.2)\n",
            "Requirement already satisfied: regex!=2019.12.17 in /usr/local/lib/python3.10/dist-packages (from transformers) (2024.11.6)\n",
            "Requirement already satisfied: requests in /usr/local/lib/python3.10/dist-packages (from transformers) (2.32.3)\n",
            "Requirement already satisfied: tokenizers<0.22,>=0.21 in /usr/local/lib/python3.10/dist-packages (from transformers) (0.21.0)\n",
            "Requirement already satisfied: safetensors>=0.4.1 in /usr/local/lib/python3.10/dist-packages (from transformers) (0.4.5)\n",
            "Requirement already satisfied: tqdm>=4.27 in /usr/local/lib/python3.10/dist-packages (from transformers) (4.67.1)\n",
            "Requirement already satisfied: beautifulsoup4>=4.4.1 in /usr/local/lib/python3.10/dist-packages (from newspaper3k) (4.12.3)\n",
            "Requirement already satisfied: Pillow>=3.3.0 in /usr/local/lib/python3.10/dist-packages (from newspaper3k) (11.0.0)\n",
            "Collecting cssselect>=0.9.2 (from newspaper3k)\n",
            "  Downloading cssselect-1.2.0-py2.py3-none-any.whl.metadata (2.2 kB)\n",
            "Requirement already satisfied: lxml>=3.6.0 in /usr/local/lib/python3.10/dist-packages (from newspaper3k) (5.3.0)\n",
            "Requirement already satisfied: nltk>=3.2.1 in /usr/local/lib/python3.10/dist-packages (from newspaper3k) (3.9.1)\n",
            "Collecting feedparser>=5.2.1 (from newspaper3k)\n",
            "  Downloading feedparser-6.0.11-py3-none-any.whl.metadata (2.4 kB)\n",
            "Collecting tldextract>=2.0.1 (from newspaper3k)\n",
            "  Downloading tldextract-5.1.3-py3-none-any.whl.metadata (11 kB)\n",
            "Collecting feedfinder2>=0.0.4 (from newspaper3k)\n",
            "  Downloading feedfinder2-0.0.4.tar.gz (3.3 kB)\n",
            "  Preparing metadata (setup.py) ... \u001b[?25l\u001b[?25hdone\n",
            "Collecting jieba3k>=0.35.1 (from newspaper3k)\n",
            "  Downloading jieba3k-0.35.1.zip (7.4 MB)\n",
            "\u001b[2K     \u001b[90m━━━━━━━━━━━━━━━━━━━━━━━━━━━━━━━━━━━━━━━━\u001b[0m \u001b[32m7.4/7.4 MB\u001b[0m \u001b[31m12.9 MB/s\u001b[0m eta \u001b[36m0:00:00\u001b[0m\n",
            "\u001b[?25h  Preparing metadata (setup.py) ... \u001b[?25l\u001b[?25hdone\n",
            "Requirement already satisfied: python-dateutil>=2.5.3 in /usr/local/lib/python3.10/dist-packages (from newspaper3k) (2.8.2)\n",
            "Collecting tinysegmenter==0.3 (from newspaper3k)\n",
            "  Downloading tinysegmenter-0.3.tar.gz (16 kB)\n",
            "  Preparing metadata (setup.py) ... \u001b[?25l\u001b[?25hdone\n",
            "Requirement already satisfied: soupsieve>1.2 in /usr/local/lib/python3.10/dist-packages (from beautifulsoup4>=4.4.1->newspaper3k) (2.6)\n",
            "Requirement already satisfied: six in /usr/local/lib/python3.10/dist-packages (from feedfinder2>=0.0.4->newspaper3k) (1.17.0)\n",
            "Collecting sgmllib3k (from feedparser>=5.2.1->newspaper3k)\n",
            "  Downloading sgmllib3k-1.0.0.tar.gz (5.8 kB)\n",
            "  Preparing metadata (setup.py) ... \u001b[?25l\u001b[?25hdone\n",
            "Requirement already satisfied: fsspec>=2023.5.0 in /usr/local/lib/python3.10/dist-packages (from huggingface-hub<1.0,>=0.24.0->transformers) (2024.10.0)\n",
            "Requirement already satisfied: typing-extensions>=3.7.4.3 in /usr/local/lib/python3.10/dist-packages (from huggingface-hub<1.0,>=0.24.0->transformers) (4.12.2)\n",
            "Requirement already satisfied: click in /usr/local/lib/python3.10/dist-packages (from nltk>=3.2.1->newspaper3k) (8.1.7)\n",
            "Requirement already satisfied: joblib in /usr/local/lib/python3.10/dist-packages (from nltk>=3.2.1->newspaper3k) (1.4.2)\n",
            "Requirement already satisfied: charset-normalizer<4,>=2 in /usr/local/lib/python3.10/dist-packages (from requests->transformers) (3.4.0)\n",
            "Requirement already satisfied: idna<4,>=2.5 in /usr/local/lib/python3.10/dist-packages (from requests->transformers) (3.10)\n",
            "Requirement already satisfied: urllib3<3,>=1.21.1 in /usr/local/lib/python3.10/dist-packages (from requests->transformers) (2.2.3)\n",
            "Requirement already satisfied: certifi>=2017.4.17 in /usr/local/lib/python3.10/dist-packages (from requests->transformers) (2024.12.14)\n",
            "Collecting requests-file>=1.4 (from tldextract>=2.0.1->newspaper3k)\n",
            "  Downloading requests_file-2.1.0-py2.py3-none-any.whl.metadata (1.7 kB)\n",
            "Downloading newspaper3k-0.2.8-py3-none-any.whl (211 kB)\n",
            "\u001b[2K   \u001b[90m━━━━━━━━━━━━━━━━━━━━━━━━━━━━━━━━━━━━━━━━\u001b[0m \u001b[32m211.1/211.1 kB\u001b[0m \u001b[31m6.2 MB/s\u001b[0m eta \u001b[36m0:00:00\u001b[0m\n",
            "\u001b[?25hDownloading cssselect-1.2.0-py2.py3-none-any.whl (18 kB)\n",
            "Downloading feedparser-6.0.11-py3-none-any.whl (81 kB)\n",
            "\u001b[2K   \u001b[90m━━━━━━━━━━━━━━━━━━━━━━━━━━━━━━━━━━━━━━━━\u001b[0m \u001b[32m81.3/81.3 kB\u001b[0m \u001b[31m3.8 MB/s\u001b[0m eta \u001b[36m0:00:00\u001b[0m\n",
            "\u001b[?25hDownloading tldextract-5.1.3-py3-none-any.whl (104 kB)\n",
            "\u001b[2K   \u001b[90m━━━━━━━━━━━━━━━━━━━━━━━━━━━━━━━━━━━━━━━━\u001b[0m \u001b[32m104.9/104.9 kB\u001b[0m \u001b[31m5.4 MB/s\u001b[0m eta \u001b[36m0:00:00\u001b[0m\n",
            "\u001b[?25hDownloading requests_file-2.1.0-py2.py3-none-any.whl (4.2 kB)\n",
            "Building wheels for collected packages: tinysegmenter, google-search-results, feedfinder2, jieba3k, sgmllib3k\n",
            "  Building wheel for tinysegmenter (setup.py) ... \u001b[?25l\u001b[?25hdone\n",
            "  Created wheel for tinysegmenter: filename=tinysegmenter-0.3-py3-none-any.whl size=13539 sha256=dc609cf51e0bfbd31b4771ace06c10ce30ce006def4b6aeada8307dd022de80a\n",
            "  Stored in directory: /root/.cache/pip/wheels/c8/d6/6c/384f58df48c00b9a31d638005143b5b3ac62c3d25fb1447f23\n",
            "  Building wheel for google-search-results (setup.py) ... \u001b[?25l\u001b[?25hdone\n",
            "  Created wheel for google-search-results: filename=google_search_results-2.4.2-py3-none-any.whl size=32009 sha256=cf6ba9a71f5f570330d4d210e94136d5db633ebe8a507986f72000fa88ff2322\n",
            "  Stored in directory: /root/.cache/pip/wheels/d3/b2/c3/03302d12bb44a2cdff3c9371f31b72c0c4e84b8d2285eeac53\n",
            "  Building wheel for feedfinder2 (setup.py) ... \u001b[?25l\u001b[?25hdone\n",
            "  Created wheel for feedfinder2: filename=feedfinder2-0.0.4-py3-none-any.whl size=3342 sha256=5adb43b1d8ffbeabca5699e97590c2de4ad77106d6388d7daea9df5f18cf9327\n",
            "  Stored in directory: /root/.cache/pip/wheels/97/02/e7/a1ff1760e12bdbaab0ac824fae5c1bc933e41c4ccd6a8f8edb\n",
            "  Building wheel for jieba3k (setup.py) ... \u001b[?25l\u001b[?25hdone\n",
            "  Created wheel for jieba3k: filename=jieba3k-0.35.1-py3-none-any.whl size=7398379 sha256=e6c527d1de4c4589ad85b737200a0836cfdc79d663afcfb43c49b303c3a754b3\n",
            "  Stored in directory: /root/.cache/pip/wheels/7a/c4/0c/12a9a314ecac499456c4c3b2fcc2f635a3b45a39dfbd240299\n",
            "  Building wheel for sgmllib3k (setup.py) ... \u001b[?25l\u001b[?25hdone\n",
            "  Created wheel for sgmllib3k: filename=sgmllib3k-1.0.0-py3-none-any.whl size=6047 sha256=a32fa9212e271039fbe553baf3495357d109bce88cd5ec663cc49c811b220404\n",
            "  Stored in directory: /root/.cache/pip/wheels/f0/69/93/a47e9d621be168e9e33c7ce60524393c0b92ae83cf6c6e89c5\n",
            "Successfully built tinysegmenter google-search-results feedfinder2 jieba3k sgmllib3k\n",
            "Installing collected packages: tinysegmenter, sgmllib3k, jieba3k, feedparser, cssselect, requests-file, google-search-results, feedfinder2, tldextract, newspaper3k\n",
            "Successfully installed cssselect-1.2.0 feedfinder2-0.0.4 feedparser-6.0.11 google-search-results-2.4.2 jieba3k-0.35.1 newspaper3k-0.2.8 requests-file-2.1.0 sgmllib3k-1.0.0 tinysegmenter-0.3 tldextract-5.1.3\n"
          ]
        }
      ],
      "source": [
        "pip install transformers newspaper3k google-search-results"
      ]
    },
    {
      "cell_type": "markdown",
      "source": [
        "![Screenshot 2025-01-04 130646.png](data:image/png;base64,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)"
      ],
      "metadata": {
        "id": "Uw_n9obSPuER"
      }
    },
    {
      "cell_type": "markdown",
      "source": [
        "https://arxiv.org/pdf/2208.05777"
      ],
      "metadata": {
        "id": "mP9xvGATQGF4"
      }
    },
    {
      "cell_type": "code",
      "source": [
        "import pandas as pd\n",
        "from transformers import AutoTokenizer, TFAutoModelForSequenceClassification, pipeline\n",
        "from newspaper import Article\n",
        "from serpapi import GoogleSearch\n",
        "from transformers import pipeline as text_generation_pipeline\n",
        "\n",
        "# Load the bias detection model\n",
        "tokenizer = AutoTokenizer.from_pretrained(\"d4data/bias-detection-model\")\n",
        "model = TFAutoModelForSequenceClassification.from_pretrained(\"d4data/bias-detection-model\")\n",
        "bias_classifier = pipeline('text-classification', model=model, tokenizer=tokenizer)\n",
        "\n",
        "# Load sentiment analysis model\n",
        "sentiment_model = pipeline(\"sentiment-analysis\")\n",
        "\n",
        "# Load summarization model\n",
        "summarizer = pipeline(\"summarization\")\n",
        "\n",
        "# Load text generation model for de-biasing\n",
        "debiasing_model = text_generation_pipeline(\"text2text-generation\", model=\"t5-small\")  # Example: T5 model\n",
        "\n",
        "# Function to scrape article content\n",
        "def scrape_article(url):\n",
        "    try:\n",
        "        article = Article(url)\n",
        "        article.download()\n",
        "        article.parse()\n",
        "        return article.text\n",
        "    except Exception as e:\n",
        "        print(f\"Error scraping {url}: {e}\")\n",
        "        return None\n",
        "\n",
        "# Function to perform Google search and get news links\n",
        "def google_news_search(query, num_results=5):\n",
        "    api_key = \"1be4a2bd9b3c979c700ea11f732fd7bc524160c605867cf5b92ddf443f2a0bfc\"\n",
        "    search = GoogleSearch({\"q\": query, \"tbm\": \"nws\", \"api_key\": api_key})\n",
        "    results = search.get_dict()\n",
        "    news_links = []\n",
        "\n",
        "    for article in results.get(\"news_results\", [])[:num_results]:\n",
        "        news_links.append(article[\"link\"])\n",
        "\n",
        "    return news_links\n",
        "\n",
        "# Bias Masking Function (Extracting biased part)\n",
        "def extract_biased_part(text):\n",
        "    biased_part = []\n",
        "    # Tokenize text into sentences\n",
        "    sentences = text.split(\".\")\n",
        "    for sentence in sentences:\n",
        "        bias_predictions = bias_classifier(sentence.strip())  # Classify each sentence\n",
        "        label = bias_predictions[0][\"label\"]\n",
        "        if label != \"Neutral\":\n",
        "            biased_part.append(sentence.strip())\n",
        "    return \" \".join(biased_part)\n",
        "\n",
        "# De-biasing function (Rewriting biased parts)\n",
        "def debias_text(text):\n",
        "    # Use a model to rephrase the biased text (example: using T5 or GPT models)\n",
        "    debiased_text = debiasing_model(f\"de-bias: {text}\")  # Prompt for rephrasing biased text\n",
        "    return debiased_text[0]['generated_text']\n",
        "\n",
        "# Sentiment Analysis\n",
        "def perform_sentiment_analysis(text):\n",
        "    sentiment_result = sentiment_model(text)\n",
        "    sentiment_label = sentiment_result[0][\"label\"]\n",
        "    sentiment_score = sentiment_result[0][\"score\"]\n",
        "    return sentiment_label, sentiment_score\n",
        "\n",
        "# Summarization\n",
        "def summarize_text(text):\n",
        "    summary = summarizer(text, max_length=150, min_length=50, do_sample=False)\n",
        "    return summary[0]['summary_text']\n",
        "\n",
        "# Bias Interpretation\n",
        "def interpret_bias(predictions):\n",
        "    results = []\n",
        "    for prediction in predictions:\n",
        "        label = prediction[\"label\"]\n",
        "        score = prediction[\"score\"]\n",
        "        interpretation = \"\"\n",
        "        if label == \"Neutral\":\n",
        "            interpretation = \"This article appears unbiased or balanced in its context.\"\n",
        "        elif label == \"Left-Leaning\":\n",
        "            interpretation = \"The article may exhibit a bias toward left-leaning ideologies.\"\n",
        "        elif label == \"Right-Leaning\":\n",
        "            interpretation = \"The article may exhibit a bias toward right-leaning ideologies.\"\n",
        "        else:\n",
        "            interpretation = f\"The article may have a specific contextual bias: {label}.\"\n",
        "\n",
        "        results.append({\n",
        "            \"Bias Label\": label,\n",
        "            \"Bias Score\": score,\n",
        "            \"Interpretation\": interpretation\n",
        "        })\n",
        "    return results\n",
        "\n",
        "# Main function to analyze bias, sentiment, and summarize articles\n",
        "def analyze_and_process_articles(query, num_articles=5):\n",
        "    print(f\"Searching for news articles about: {query}\")\n",
        "    news_links = google_news_search(query, num_articles)\n",
        "\n",
        "    if not news_links:\n",
        "        print(\"No news links found.\")\n",
        "        return\n",
        "\n",
        "    # Initialize a list to hold the data\n",
        "    results_data = []\n",
        "\n",
        "    for idx, link in enumerate(news_links, 1):\n",
        "        print(f\"\\nArticle {idx}: {link}\")\n",
        "        article_text = scrape_article(link)\n",
        "\n",
        "        if article_text:\n",
        "            # Bias Analysis\n",
        "            bias_predictions = bias_classifier(article_text[:512])  # Truncate to model's max input length\n",
        "            bias_interpretation = interpret_bias(bias_predictions)\n",
        "\n",
        "            # Sentiment Analysis\n",
        "            sentiment_label, sentiment_score = perform_sentiment_analysis(article_text)\n",
        "\n",
        "            # Summarization\n",
        "            summary_text = summarize_text(article_text)\n",
        "\n",
        "            # Bias Masking (Extracting biased parts)\n",
        "            biased_part = extract_biased_part(article_text)\n",
        "\n",
        "            # De-biasing (Rewriting biased parts)\n",
        "            debiased_text = debias_text(biased_part) if biased_part else \"No biased content found.\"\n",
        "\n",
        "            # Append the results to the data list\n",
        "            results_data.append({\n",
        "                'Article URL': link,\n",
        "                'Bias Result': bias_interpretation[0][\"Bias Label\"],\n",
        "                'Bias Score': bias_interpretation[0][\"Bias Score\"],\n",
        "                'Bias Interpretation': bias_interpretation[0][\"Interpretation\"],\n",
        "                'Sentiment Label': sentiment_label,\n",
        "                'Sentiment Score': sentiment_score,\n",
        "                'Summary': summary_text,\n",
        "                'Biased Part': biased_part,\n",
        "                'Debiased Text': debiased_text\n",
        "            })\n",
        "        else:\n",
        "            print(\"Could not analyze article.\")\n",
        "\n",
        "    # Convert the results into a DataFrame\n",
        "    df_results = pd.DataFrame(results_data)\n",
        "    return df_results\n",
        "\n",
        "# Example usage\n",
        "if __name__ == \"__main__\":\n",
        "    query = \"climate change\"\n",
        "    df = analyze_and_process_articles(query, num_articles=3)\n",
        "    print(\"\\nResults DataFrame:\")\n",
        "    print(df)\n"
      ],
      "metadata": {
        "colab": {
          "base_uri": "https://localhost:8080/"
        },
        "id": "OaWCucK9L0CF",
        "outputId": "a61346d0-6c6b-47d3-f6b4-e3e0d8365f8d"
      },
      "execution_count": 13,
      "outputs": [
        {
          "output_type": "stream",
          "name": "stderr",
          "text": [
            "Some layers from the model checkpoint at d4data/bias-detection-model were not used when initializing TFDistilBertForSequenceClassification: ['dropout_19']\n",
            "- This IS expected if you are initializing TFDistilBertForSequenceClassification from the checkpoint of a model trained on another task or with another architecture (e.g. initializing a BertForSequenceClassification model from a BertForPreTraining model).\n",
            "- This IS NOT expected if you are initializing TFDistilBertForSequenceClassification from the checkpoint of a model that you expect to be exactly identical (initializing a BertForSequenceClassification model from a BertForSequenceClassification model).\n",
            "Some layers of TFDistilBertForSequenceClassification were not initialized from the model checkpoint at d4data/bias-detection-model and are newly initialized: ['dropout_199']\n",
            "You should probably TRAIN this model on a down-stream task to be able to use it for predictions and inference.\n",
            "Device set to use 0\n",
            "No model was supplied, defaulted to distilbert/distilbert-base-uncased-finetuned-sst-2-english and revision 714eb0f (https://huggingface.co/distilbert/distilbert-base-uncased-finetuned-sst-2-english).\n",
            "Using a pipeline without specifying a model name and revision in production is not recommended.\n",
            "Device set to use cpu\n",
            "No model was supplied, defaulted to sshleifer/distilbart-cnn-12-6 and revision a4f8f3e (https://huggingface.co/sshleifer/distilbart-cnn-12-6).\n",
            "Using a pipeline without specifying a model name and revision in production is not recommended.\n",
            "Device set to use cpu\n",
            "Device set to use cpu\n"
          ]
        },
        {
          "output_type": "stream",
          "name": "stdout",
          "text": [
            "Searching for news articles about: climate change\n",
            "\n",
            "Article 1: https://www.newscientist.com/article/2462510-climate-change-may-have-killed-ancient-hobbit-hominins/\n",
            "\n",
            "Article 2: https://www.economist.com/leaders/2025/01/02/smarter-incentives-would-help-india-adapt-to-climate-change\n"
          ]
        },
        {
          "output_type": "stream",
          "name": "stderr",
          "text": [
            "Your max_length is set to 150, but your input_length is only 120. Since this is a summarization task, where outputs shorter than the input are typically wanted, you might consider decreasing max_length manually, e.g. summarizer('...', max_length=60)\n"
          ]
        },
        {
          "output_type": "stream",
          "name": "stdout",
          "text": [
            "\n",
            "Article 3: https://www.bloomberg.com/news/articles/2025-01-04/new-year-s-resolutions-for-2025-play-a-board-game-swap-out-meat\n"
          ]
        },
        {
          "output_type": "stream",
          "name": "stderr",
          "text": [
            "Your max_length is set to 150, but your input_length is only 42. Since this is a summarization task, where outputs shorter than the input are typically wanted, you might consider decreasing max_length manually, e.g. summarizer('...', max_length=21)\n"
          ]
        },
        {
          "output_type": "stream",
          "name": "stdout",
          "text": [
            "\n",
            "Results DataFrame:\n",
            "                                         Article URL Bias Result  Bias Score  \\\n",
            "0  https://www.newscientist.com/article/2462510-c...      Biased    0.917527   \n",
            "1  https://www.economist.com/leaders/2025/01/02/s...      Biased    0.863997   \n",
            "2  https://www.bloomberg.com/news/articles/2025-0...     Neutral    0.754152   \n",
            "\n",
            "  Sentiment Label  Sentiment Score  \\\n",
            "0        NEGATIVE         0.997890   \n",
            "1        NEGATIVE         0.978706   \n",
            "2        NEGATIVE         0.705599   \n",
            "\n",
            "                                             Summary  \\\n",
            "0   Until about 50,000 years ago, Homo floresiens...   \n",
            "1   Minimum temperatures last summer were the hig...   \n",
            "2   Please make sure your browser supports JavaSc...   \n",
            "\n",
            "                                         Biased Part  \\\n",
            "0  Homo floresiensis, a metre-tall ancient homini...   \n",
            "1  F ew places illustrate the challenges of adapt...   \n",
            "2  Why did this happen?\\n\\nPlease make sure your ...   \n",
            "\n",
            "                                       Debiased Text  \n",
            "0     – – a metre tall ancient hominin, lived on the  \n",
            "1  : F ew places illustrate the challenges of ada...  \n",
            "2  the premise: Why did this happen? Please make ...  \n"
          ]
        }
      ]
    },
    {
      "cell_type": "code",
      "source": [],
      "metadata": {
        "id": "9OLJKMKwOf1T"
      },
      "execution_count": null,
      "outputs": []
    }
  ]
}